{
 "cells": [
  {
   "cell_type": "markdown",
   "metadata": {},
   "source": [
    "# Getting started with bb_tracking\n",
    "\n",
    "This notebook shows you how to use the code in [bb_tracking](https://github.com/BioroboticsLab/bb_tracking).\n",
    "\n",
    "It covers the following topics:\n",
    "\n",
    " - Loading data from [bb_binary](https://github.com/BioroboticsLab/bb_binary)\n",
    " - Using predefined scoring functions to perform tracking\n",
    " - Define features and train your own classifier for tracking\n",
    " - Validate the results of trakcing"
   ]
  },
  {
   "cell_type": "code",
   "execution_count": null,
   "metadata": {
    "collapsed": true
   },
   "outputs": [],
   "source": [
    "# python standard imports\n",
    "from collections import OrderedDict\n",
    "\n",
    "# sklearn imports\n",
    "from sklearn.ensemble import RandomForestClassifier\n",
    "\n",
    "## bb_binary imports\n",
    "from bb_binary import Repository\n",
    "\n",
    "## bb_tracking imports\n",
    "from bb_tracking.data.constants import DETKEY\n",
    "from bb_tracking.data import DataWrapperBinary, DataWrapperTruthBinary\n",
    "from bb_tracking.tracking import make_detection_score_fun, SimpleWalker, score_id_sim_v, distance_orientations,\\\n",
    "    distance_positions_v, train_bin_clf\n",
    "from bb_tracking.validation import Validator, validate_plot, plot_fragments\n",
    "\n",
    "import matplotlib.pyplot as plt\n",
    "%matplotlib inline\n",
    "\n",
    "plt.rcParams['figure.figsize'] = (20.0, 10.0)\n",
    "plt.rcParams.update({'font.size': 12})"
   ]
  },
  {
   "cell_type": "markdown",
   "metadata": {},
   "source": [
    "## Loading the data\n",
    "\n",
    "If you are a member of the Biorobotics Lab ask where you can get access to the ground truth data. For others there might be a web interface with data access later.\n",
    "\n",
    "For this small tutorial you'll need the original *bb_binary* Pipeline output and the corresponding *bb_binary* ground truth data.\n",
    "\n",
    "There are separate `DataWrapper` for each type. The ordinary `DataWrapper` is for tracking, the `DataWrapperTruth` for training and validation. Let's start with loading the data."
   ]
  },
  {
   "cell_type": "code",
   "execution_count": null,
   "metadata": {
    "collapsed": false
   },
   "outputs": [],
   "source": [
    "repo_test = Repository(\"../../data/interim/20150918_Truth/repo_pipeline\")\n",
    "dw_tracking = DataWrapperBinary(repo_test)\n",
    "\n",
    "merge_radius = 30  # used for merging truth detections with pipeline output\n",
    "repo_truth = Repository(\"../../data/interim/20150918_Truth/repo_truth\")\n",
    "dw_truth = DataWrapperTruthBinary(repo_test, repo_truth, merge_radius)"
   ]
  },
  {
   "cell_type": "markdown",
   "metadata": {
    "collapsed": false
   },
   "source": [
    "## Perform tracking\n",
    "\n",
    "### Ready to use Classifier\n",
    "\n",
    "We already provide a ready to use classifier that uses a suitable Machine Learning Algorithm with a selected set of Features and Hyperparameters."
   ]
  },
  {
   "cell_type": "code",
   "execution_count": null,
   "metadata": {
    "collapsed": false
   },
   "outputs": [],
   "source": [
    "score_fun_ready, _ = make_detection_score_fun(dw_truth, verbose=True)"
   ]
  },
  {
   "cell_type": "markdown",
   "metadata": {},
   "source": [
    "### Train your own Classifier\n",
    "\n",
    "You might use any classifier that is compatible with [scikit-learn](http://scikit-learn.org/stable/index.html).\n",
    "In this example we are using a [RandomForest](http://scikit-learn.org/stable/modules/generated/sklearn.ensemble.RandomForestClassifier.html#sklearn-ensemble-randomforestclassifier). The features are organized in a ``OrderedDict`` because we depend on the order of the feature functions. For testing purposes we define three ``lambdas`` that map the last detection of a track and the detections that might be assigned to some existing scoring functions.\n",
    "\n",
    "The training function will not only train the classifier, it will also evaluate it and return a scoring function for testing purposes."
   ]
  },
  {
   "cell_type": "code",
   "execution_count": null,
   "metadata": {
    "collapsed": false
   },
   "outputs": [],
   "source": [
    "frame_diff = 1  # difference between frames, 1 means no gaps\n",
    "training_radius = 200  # search radius in image coordinates in training\n",
    "tracking_radius = 110  # search radius in image coordinates in tracking\n",
    "\n",
    "features = OrderedDict()\n",
    "features['distance'] = lambda tracks, detections:\\\n",
    "    distance_positions_v([track.meta[DETKEY][-1] for track in tracks], detections)\n",
    "\n",
    "features['id_score'] = lambda tracks, detections:\\\n",
    "    score_id_sim_v([track.meta[DETKEY][-1] for track in tracks], detections)\n",
    "\n",
    "features['rotation'] = lambda tracks, detections:\\\n",
    "    [distance_orientations(track.meta[DETKEY][-1].orientation, detection.orientation)\n",
    "     for track, detection in zip(tracks, detections)]\n",
    "\n",
    "clf = RandomForestClassifier(n_estimators=10)\n",
    "_, _, score_fun_test = train_bin_clf(clf, dw_truth, features, frame_diff, training_radius, verbose=True)"
   ]
  },
  {
   "cell_type": "markdown",
   "metadata": {},
   "source": [
    "### Calculate tracks using a Walker\n",
    "\n",
    "A Walker will take a scoring function and a `DataWrapper` and will try to assign the best fitting frame objects in a given search radius."
   ]
  },
  {
   "cell_type": "code",
   "execution_count": null,
   "metadata": {
    "collapsed": false
   },
   "outputs": [],
   "source": [
    "walker = SimpleWalker(dw_tracking, score_fun_ready, frame_diff, tracking_radius)\n",
    "tracks = walker.calc_tracks()"
   ]
  },
  {
   "cell_type": "markdown",
   "metadata": {},
   "source": [
    "Also run our new testing function."
   ]
  },
  {
   "cell_type": "code",
   "execution_count": null,
   "metadata": {
    "collapsed": true
   },
   "outputs": [],
   "source": [
    "walker = SimpleWalker(dw_tracking, score_fun_test, frame_diff, tracking_radius)\n",
    "tracks_test = walker.calc_tracks()"
   ]
  },
  {
   "cell_type": "markdown",
   "metadata": {
    "collapsed": true
   },
   "source": [
    "## Validate the results\n",
    "\n",
    "For the validation of the results there is not only a Validator class that could perform some sanity checks and could validate tracks. You might provide a custom scoring function, or use the integrated one.\n",
    "\n",
    "In this scoring we want the validation algorithm to also check if the Tracking Algorithm was able to *close* the gaps on the left and right. Finally we visualize some metrics of the validation scores and the distribution of fragments."
   ]
  },
  {
   "cell_type": "code",
   "execution_count": null,
   "metadata": {
    "collapsed": false
   },
   "outputs": [],
   "source": [
    "validator = Validator(dw_truth)\n",
    "scores = validator.validate(tracks, frame_diff - 1, gap_l=True, gap_r=True, cam_gap=True)\n",
    "scores_test = validator.validate(tracks_test, frame_diff - 1, gap_l=True, gap_r=True, cam_gap=True)"
   ]
  },
  {
   "cell_type": "code",
   "execution_count": null,
   "metadata": {
    "collapsed": false
   },
   "outputs": [],
   "source": [
    "_ = validate_plot(tracks, scores, validator, frame_diff - 1)\n",
    "_ = validate_plot(tracks_test, scores_test, validator, frame_diff - 1)"
   ]
  },
  {
   "cell_type": "code",
   "execution_count": null,
   "metadata": {
    "collapsed": false
   },
   "outputs": [],
   "source": [
    "_ = plot_fragments(scores, validator, frame_diff - 1)\n",
    "_ = plot_fragments(scores_test, validator, frame_diff - 1)"
   ]
  }
 ],
 "metadata": {
  "kernelspec": {
   "display_name": "Python 3",
   "language": "python",
   "name": "python3"
  },
  "language_info": {
   "codemirror_mode": {
    "name": "ipython",
    "version": 3
   },
   "file_extension": ".py",
   "mimetype": "text/x-python",
   "name": "python",
   "nbconvert_exporter": "python",
   "pygments_lexer": "ipython3",
   "version": "3.5.2"
  }
 },
 "nbformat": 4,
 "nbformat_minor": 0
}
